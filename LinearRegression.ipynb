{
  "nbformat": 4,
  "nbformat_minor": 0,
  "metadata": {
    "colab": {
      "name": "LinearRegression.ipynb",
      "provenance": [],
      "collapsed_sections": []
    },
    "kernelspec": {
      "name": "python3",
      "display_name": "Python 3"
    },
    "language_info": {
      "name": "python"
    }
  },
  "cells": [
    {
      "cell_type": "markdown",
      "source": [
        "<center><h1><u>Linear Regression</u></h1></center>\n",
        "\n",
        "In this module, we will do the following:\n",
        "\n",
        "1. Generating Data\n",
        "2. Training a Linear Regression Model using scikit-learn\n",
        "3. Check the optimized weights\n",
        "4. Predict New Values\n",
        "\n",
        "<hr></hr>"
      ],
      "metadata": {
        "id": "yaptU9MS9hB_"
      }
    },
    {
      "cell_type": "markdown",
      "source": [
        "<center><h2><u>Generating Toy Dataset</u></h2></center>\n",
        "<hr></hr>"
      ],
      "metadata": {
        "id": "sjhuQuxN-gEd"
      }
    },
    {
      "cell_type": "markdown",
      "source": [
        "### Importing the Necessary Modules\n"
      ],
      "metadata": {
        "id": "IOTOSGk9-lJd"
      }
    },
    {
      "cell_type": "code",
      "execution_count": null,
      "metadata": {
        "id": "RESBuw669gpz"
      },
      "outputs": [],
      "source": [
        "import numpy as np\n",
        "from sklearn.linear_model import LinearRegression\n",
        "import pandas as pd"
      ]
    },
    {
      "cell_type": "markdown",
      "source": [
        "### Generating the Data"
      ],
      "metadata": {
        "id": "GwO6zBoJ-xxt"
      }
    },
    {
      "cell_type": "code",
      "source": [
        "X = np.arange(0, 1000, 1, dtype = 'float32')\n",
        "Y = (X*9/5)+32"
      ],
      "metadata": {
        "id": "-V4qmE2k-e3a"
      },
      "execution_count": null,
      "outputs": []
    },
    {
      "cell_type": "markdown",
      "source": [
        "<hr> </hr>\n",
        "\n",
        "**Following lines are optional, and they are used here just to explain the data clearly.**\n",
        "\n",
        "<hr></hr>"
      ],
      "metadata": {
        "id": "JAVqwkNP_0X_"
      }
    },
    {
      "cell_type": "code",
      "source": [
        "data = { \"Temp in Celcius\": X,\n",
        "        \"Temp in Fahrenheit\": Y}\n",
        "df = pd.DataFrame(data)\n",
        "df.head(10)"
      ],
      "metadata": {
        "colab": {
          "base_uri": "https://localhost:8080/",
          "height": 363
        },
        "id": "yPQxlim0--wl",
        "outputId": "de4607ad-4e30-410a-a558-1bbb480e444c"
      },
      "execution_count": null,
      "outputs": [
        {
          "output_type": "execute_result",
          "data": {
            "text/plain": [
              "   Temp in Celcius  Temp in Fahrenheit\n",
              "0              0.0           32.000000\n",
              "1              1.0           33.799999\n",
              "2              2.0           35.599998\n",
              "3              3.0           37.400002\n",
              "4              4.0           39.200001\n",
              "5              5.0           41.000000\n",
              "6              6.0           42.799999\n",
              "7              7.0           44.599998\n",
              "8              8.0           46.400002\n",
              "9              9.0           48.200001"
            ],
            "text/html": [
              "\n",
              "  <div id=\"df-2eb798b2-47bf-46df-b368-131ddba62adb\">\n",
              "    <div class=\"colab-df-container\">\n",
              "      <div>\n",
              "<style scoped>\n",
              "    .dataframe tbody tr th:only-of-type {\n",
              "        vertical-align: middle;\n",
              "    }\n",
              "\n",
              "    .dataframe tbody tr th {\n",
              "        vertical-align: top;\n",
              "    }\n",
              "\n",
              "    .dataframe thead th {\n",
              "        text-align: right;\n",
              "    }\n",
              "</style>\n",
              "<table border=\"1\" class=\"dataframe\">\n",
              "  <thead>\n",
              "    <tr style=\"text-align: right;\">\n",
              "      <th></th>\n",
              "      <th>Temp in Celcius</th>\n",
              "      <th>Temp in Fahrenheit</th>\n",
              "    </tr>\n",
              "  </thead>\n",
              "  <tbody>\n",
              "    <tr>\n",
              "      <th>0</th>\n",
              "      <td>0.0</td>\n",
              "      <td>32.000000</td>\n",
              "    </tr>\n",
              "    <tr>\n",
              "      <th>1</th>\n",
              "      <td>1.0</td>\n",
              "      <td>33.799999</td>\n",
              "    </tr>\n",
              "    <tr>\n",
              "      <th>2</th>\n",
              "      <td>2.0</td>\n",
              "      <td>35.599998</td>\n",
              "    </tr>\n",
              "    <tr>\n",
              "      <th>3</th>\n",
              "      <td>3.0</td>\n",
              "      <td>37.400002</td>\n",
              "    </tr>\n",
              "    <tr>\n",
              "      <th>4</th>\n",
              "      <td>4.0</td>\n",
              "      <td>39.200001</td>\n",
              "    </tr>\n",
              "    <tr>\n",
              "      <th>5</th>\n",
              "      <td>5.0</td>\n",
              "      <td>41.000000</td>\n",
              "    </tr>\n",
              "    <tr>\n",
              "      <th>6</th>\n",
              "      <td>6.0</td>\n",
              "      <td>42.799999</td>\n",
              "    </tr>\n",
              "    <tr>\n",
              "      <th>7</th>\n",
              "      <td>7.0</td>\n",
              "      <td>44.599998</td>\n",
              "    </tr>\n",
              "    <tr>\n",
              "      <th>8</th>\n",
              "      <td>8.0</td>\n",
              "      <td>46.400002</td>\n",
              "    </tr>\n",
              "    <tr>\n",
              "      <th>9</th>\n",
              "      <td>9.0</td>\n",
              "      <td>48.200001</td>\n",
              "    </tr>\n",
              "  </tbody>\n",
              "</table>\n",
              "</div>\n",
              "      <button class=\"colab-df-convert\" onclick=\"convertToInteractive('df-2eb798b2-47bf-46df-b368-131ddba62adb')\"\n",
              "              title=\"Convert this dataframe to an interactive table.\"\n",
              "              style=\"display:none;\">\n",
              "        \n",
              "  <svg xmlns=\"http://www.w3.org/2000/svg\" height=\"24px\"viewBox=\"0 0 24 24\"\n",
              "       width=\"24px\">\n",
              "    <path d=\"M0 0h24v24H0V0z\" fill=\"none\"/>\n",
              "    <path d=\"M18.56 5.44l.94 2.06.94-2.06 2.06-.94-2.06-.94-.94-2.06-.94 2.06-2.06.94zm-11 1L8.5 8.5l.94-2.06 2.06-.94-2.06-.94L8.5 2.5l-.94 2.06-2.06.94zm10 10l.94 2.06.94-2.06 2.06-.94-2.06-.94-.94-2.06-.94 2.06-2.06.94z\"/><path d=\"M17.41 7.96l-1.37-1.37c-.4-.4-.92-.59-1.43-.59-.52 0-1.04.2-1.43.59L10.3 9.45l-7.72 7.72c-.78.78-.78 2.05 0 2.83L4 21.41c.39.39.9.59 1.41.59.51 0 1.02-.2 1.41-.59l7.78-7.78 2.81-2.81c.8-.78.8-2.07 0-2.86zM5.41 20L4 18.59l7.72-7.72 1.47 1.35L5.41 20z\"/>\n",
              "  </svg>\n",
              "      </button>\n",
              "      \n",
              "  <style>\n",
              "    .colab-df-container {\n",
              "      display:flex;\n",
              "      flex-wrap:wrap;\n",
              "      gap: 12px;\n",
              "    }\n",
              "\n",
              "    .colab-df-convert {\n",
              "      background-color: #E8F0FE;\n",
              "      border: none;\n",
              "      border-radius: 50%;\n",
              "      cursor: pointer;\n",
              "      display: none;\n",
              "      fill: #1967D2;\n",
              "      height: 32px;\n",
              "      padding: 0 0 0 0;\n",
              "      width: 32px;\n",
              "    }\n",
              "\n",
              "    .colab-df-convert:hover {\n",
              "      background-color: #E2EBFA;\n",
              "      box-shadow: 0px 1px 2px rgba(60, 64, 67, 0.3), 0px 1px 3px 1px rgba(60, 64, 67, 0.15);\n",
              "      fill: #174EA6;\n",
              "    }\n",
              "\n",
              "    [theme=dark] .colab-df-convert {\n",
              "      background-color: #3B4455;\n",
              "      fill: #D2E3FC;\n",
              "    }\n",
              "\n",
              "    [theme=dark] .colab-df-convert:hover {\n",
              "      background-color: #434B5C;\n",
              "      box-shadow: 0px 1px 3px 1px rgba(0, 0, 0, 0.15);\n",
              "      filter: drop-shadow(0px 1px 2px rgba(0, 0, 0, 0.3));\n",
              "      fill: #FFFFFF;\n",
              "    }\n",
              "  </style>\n",
              "\n",
              "      <script>\n",
              "        const buttonEl =\n",
              "          document.querySelector('#df-2eb798b2-47bf-46df-b368-131ddba62adb button.colab-df-convert');\n",
              "        buttonEl.style.display =\n",
              "          google.colab.kernel.accessAllowed ? 'block' : 'none';\n",
              "\n",
              "        async function convertToInteractive(key) {\n",
              "          const element = document.querySelector('#df-2eb798b2-47bf-46df-b368-131ddba62adb');\n",
              "          const dataTable =\n",
              "            await google.colab.kernel.invokeFunction('convertToInteractive',\n",
              "                                                     [key], {});\n",
              "          if (!dataTable) return;\n",
              "\n",
              "          const docLinkHtml = 'Like what you see? Visit the ' +\n",
              "            '<a target=\"_blank\" href=https://colab.research.google.com/notebooks/data_table.ipynb>data table notebook</a>'\n",
              "            + ' to learn more about interactive tables.';\n",
              "          element.innerHTML = '';\n",
              "          dataTable['output_type'] = 'display_data';\n",
              "          await google.colab.output.renderOutput(dataTable, element);\n",
              "          const docLink = document.createElement('div');\n",
              "          docLink.innerHTML = docLinkHtml;\n",
              "          element.appendChild(docLink);\n",
              "        }\n",
              "      </script>\n",
              "    </div>\n",
              "  </div>\n",
              "  "
            ]
          },
          "metadata": {},
          "execution_count": 3
        }
      ]
    },
    {
      "cell_type": "markdown",
      "source": [
        "<hr></hr>\n",
        "<center><h2><u>Training Linear Regression Model</u></h2></center>\n",
        "<hr></hr>\n",
        "\n"
      ],
      "metadata": {
        "id": "WrTieQpqAljv"
      }
    },
    {
      "cell_type": "code",
      "source": [
        "# Instantiating the Linear Regression Model\n",
        "reg = LinearRegression()\n",
        "\n",
        "# Training the Model using the dataset\n",
        "reg = reg.fit(X[:,np.newaxis],Y)\n",
        "print('Training is complete')\n",
        "\n"
      ],
      "metadata": {
        "colab": {
          "base_uri": "https://localhost:8080/"
        },
        "id": "7Ohp_DPeAuzU",
        "outputId": "83c8d342-a964-419c-ab20-2bc4a22b022c"
      },
      "execution_count": null,
      "outputs": [
        {
          "output_type": "stream",
          "name": "stdout",
          "text": [
            "Training is complete\n"
          ]
        }
      ]
    },
    {
      "cell_type": "markdown",
      "source": [
        "<hr></hr>\n",
        "<center><h2><u>Checking the Optimized Weights</u></h2></center>\n",
        "<hr></hr>"
      ],
      "metadata": {
        "id": "Tshhl9prB7cf"
      }
    },
    {
      "cell_type": "code",
      "source": [
        "w = reg.coef_\n",
        "b = reg.intercept_\n",
        "\n",
        "print('The optimized weight value is {}'.format(w[0]))\n",
        "print('The optimized bias value is {}'.format(np.round(b)))"
      ],
      "metadata": {
        "colab": {
          "base_uri": "https://localhost:8080/"
        },
        "id": "P23j_xJqA1kF",
        "outputId": "9fc90dcd-1b66-4c6f-98a8-de9deb0be0c3"
      },
      "execution_count": null,
      "outputs": [
        {
          "output_type": "stream",
          "name": "stdout",
          "text": [
            "The optimized weight value is 1.8000000715255737\n",
            "The optimized bias value is 32.0\n"
          ]
        }
      ]
    },
    {
      "cell_type": "markdown",
      "source": [
        "<hr></hr>\n",
        "\n",
        "We can see that the formula to convert temperature from centigrade to fahrenheit is\n",
        "\n",
        "$$F = 1.8\\times C^° + 32 $$\n",
        "\n",
        "We can see that in the above formula, weight is $18$, and the bias is $32$, which is exactly what our model predicted.\n",
        "\n",
        "<hr></hr>"
      ],
      "metadata": {
        "id": "gf3eIu7fCxW-"
      }
    },
    {
      "cell_type": "markdown",
      "source": [
        "<hr></hr>\n",
        "<center><h2><u>Predicting Future Values</u></h2></center>\n",
        "\n",
        "\n",
        "Let's predict using our training 'reg' model to see what our model predicts for following temperatures in centigrade.\n",
        "\n",
        "**C1 = 34.5**\n",
        "\n",
        "**C2 = -98**\n",
        "\n",
        "**C3 = 390.89**\n",
        "\n",
        "<hr></hr>"
      ],
      "metadata": {
        "id": "i73RMTgSDix3"
      }
    },
    {
      "cell_type": "code",
      "source": [
        "C1 = np.array([[31.5]])\n",
        "C2 = np.array([[-98]])\n",
        "C3 = np.array([[390.89]])\n",
        "\n",
        "F1 = reg.predict(C1)\n",
        "F2 = reg.predict(C2)\n",
        "F3 = reg.predict(C3)\n",
        "\n",
        "print('The equivalent of {} temperature in centigrade to fahrenheit is {}.'.format(C1[0][0], F1[0]))\n",
        "print('The equivalent of {} temperature in centigrade to fahrenheit is {}.'.format(C2[0][0], F2[0]))\n",
        "print('The equivalent of {} temperature in centigrade to fahrenheit is {}.'.format(C3[0][0], F3[0]))"
      ],
      "metadata": {
        "colab": {
          "base_uri": "https://localhost:8080/"
        },
        "id": "Sh6qLK1hBjAV",
        "outputId": "886c2028-f1af-491c-f34e-5ef9af77a499"
      },
      "execution_count": null,
      "outputs": [
        {
          "output_type": "stream",
          "name": "stdout",
          "text": [
            "The equivalent of 31.5 temperature in centigrade to fahrenheit is 88.69994121789932.\n",
            "The equivalent of -98 temperature in centigrade to fahrenheit is -144.40006804466248.\n",
            "The equivalent of 390.89 temperature in centigrade to fahrenheit is 735.6019669234753.\n"
          ]
        }
      ]
    },
    {
      "cell_type": "code",
      "source": [
        ""
      ],
      "metadata": {
        "id": "oOKuzJyQChkF"
      },
      "execution_count": null,
      "outputs": []
    }
  ]
}
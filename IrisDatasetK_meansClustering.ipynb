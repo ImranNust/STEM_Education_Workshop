{
  "cells": [
    {
      "cell_type": "markdown",
      "metadata": {
        "id": "tVGuRyztvRGL"
      },
      "source": [
        "<h1> <center> Implementation of K-means Clusterting </center> </h1>\n",
        "<hr></hr>"
      ]
    },
    {
      "cell_type": "markdown",
      "metadata": {
        "id": "EdLfeAnbvtBz"
      },
      "source": [
        "<h2> <b>Step 1:</b> Importing all the required packages. </h2>"
      ]
    },
    {
      "cell_type": "code",
      "execution_count": null,
      "metadata": {
        "id": "Ej3CnH5qW7X1"
      },
      "outputs": [],
      "source": [
        "import pandas as pd\n",
        "import numpy as np\n",
        "import matplotlib.pyplot as plt\n",
        "from sklearn.cluster import KMeans\n",
        "from sklearn.datasets import load_iris"
      ]
    },
    {
      "cell_type": "markdown",
      "source": [
        "<hr></hr>\n",
        "<h2> <b>Step 2:</b> Loading the Dataset </h2>"
      ],
      "metadata": {
        "id": "OiUm8jtjqz5Q"
      }
    },
    {
      "cell_type": "code",
      "execution_count": null,
      "metadata": {
        "id": "O_v3HrvbgEtJ",
        "colab": {
          "base_uri": "https://localhost:8080/"
        },
        "outputId": "9f35a121-7a04-470f-81e9-5aea9f1c1f90"
      },
      "outputs": [
        {
          "output_type": "stream",
          "name": "stdout",
          "text": [
            "There are total 150 examples in the given dataset.\n"
          ]
        }
      ],
      "source": [
        "data = load_iris()\n",
        "X = data.data[:,:2]\n",
        "y = data.target\n",
        "\n",
        "print('There are total {} examples in the given dataset.'.format(X.shape[0]))"
      ]
    },
    {
      "cell_type": "markdown",
      "source": [
        "<hr></hr>\n",
        "<h2> <b>OPTIONAL STEP: Just to display the dataset for better understanding</b> </h2>"
      ],
      "metadata": {
        "id": "Snah952WrYuV"
      }
    },
    {
      "cell_type": "code",
      "execution_count": null,
      "metadata": {
        "colab": {
          "base_uri": "https://localhost:8080/",
          "height": 363
        },
        "id": "AX8tSyfcgNeb",
        "outputId": "72f3b97b-b439-46de-fe43-dd16be46908e"
      },
      "outputs": [
        {
          "output_type": "execute_result",
          "data": {
            "text/plain": [
              "     sepal length (cm)  sepal width (cm)      Target\n",
              "146                6.3               2.5   virginica\n",
              "122                7.7               2.8   virginica\n",
              "25                 5.0               3.0      setosa\n",
              "82                 5.8               2.7  versicolor\n",
              "54                 6.5               2.8  versicolor\n",
              "134                6.1               2.6   virginica\n",
              "63                 6.1               2.9  versicolor\n",
              "147                6.5               3.0   virginica\n",
              "33                 5.5               4.2      setosa\n",
              "22                 4.6               3.6      setosa"
            ],
            "text/html": [
              "\n",
              "  <div id=\"df-64a26c3a-6326-47dc-b158-8e571e8e6f13\">\n",
              "    <div class=\"colab-df-container\">\n",
              "      <div>\n",
              "<style scoped>\n",
              "    .dataframe tbody tr th:only-of-type {\n",
              "        vertical-align: middle;\n",
              "    }\n",
              "\n",
              "    .dataframe tbody tr th {\n",
              "        vertical-align: top;\n",
              "    }\n",
              "\n",
              "    .dataframe thead th {\n",
              "        text-align: right;\n",
              "    }\n",
              "</style>\n",
              "<table border=\"1\" class=\"dataframe\">\n",
              "  <thead>\n",
              "    <tr style=\"text-align: right;\">\n",
              "      <th></th>\n",
              "      <th>sepal length (cm)</th>\n",
              "      <th>sepal width (cm)</th>\n",
              "      <th>Target</th>\n",
              "    </tr>\n",
              "  </thead>\n",
              "  <tbody>\n",
              "    <tr>\n",
              "      <th>146</th>\n",
              "      <td>6.3</td>\n",
              "      <td>2.5</td>\n",
              "      <td>virginica</td>\n",
              "    </tr>\n",
              "    <tr>\n",
              "      <th>122</th>\n",
              "      <td>7.7</td>\n",
              "      <td>2.8</td>\n",
              "      <td>virginica</td>\n",
              "    </tr>\n",
              "    <tr>\n",
              "      <th>25</th>\n",
              "      <td>5.0</td>\n",
              "      <td>3.0</td>\n",
              "      <td>setosa</td>\n",
              "    </tr>\n",
              "    <tr>\n",
              "      <th>82</th>\n",
              "      <td>5.8</td>\n",
              "      <td>2.7</td>\n",
              "      <td>versicolor</td>\n",
              "    </tr>\n",
              "    <tr>\n",
              "      <th>54</th>\n",
              "      <td>6.5</td>\n",
              "      <td>2.8</td>\n",
              "      <td>versicolor</td>\n",
              "    </tr>\n",
              "    <tr>\n",
              "      <th>134</th>\n",
              "      <td>6.1</td>\n",
              "      <td>2.6</td>\n",
              "      <td>virginica</td>\n",
              "    </tr>\n",
              "    <tr>\n",
              "      <th>63</th>\n",
              "      <td>6.1</td>\n",
              "      <td>2.9</td>\n",
              "      <td>versicolor</td>\n",
              "    </tr>\n",
              "    <tr>\n",
              "      <th>147</th>\n",
              "      <td>6.5</td>\n",
              "      <td>3.0</td>\n",
              "      <td>virginica</td>\n",
              "    </tr>\n",
              "    <tr>\n",
              "      <th>33</th>\n",
              "      <td>5.5</td>\n",
              "      <td>4.2</td>\n",
              "      <td>setosa</td>\n",
              "    </tr>\n",
              "    <tr>\n",
              "      <th>22</th>\n",
              "      <td>4.6</td>\n",
              "      <td>3.6</td>\n",
              "      <td>setosa</td>\n",
              "    </tr>\n",
              "  </tbody>\n",
              "</table>\n",
              "</div>\n",
              "      <button class=\"colab-df-convert\" onclick=\"convertToInteractive('df-64a26c3a-6326-47dc-b158-8e571e8e6f13')\"\n",
              "              title=\"Convert this dataframe to an interactive table.\"\n",
              "              style=\"display:none;\">\n",
              "        \n",
              "  <svg xmlns=\"http://www.w3.org/2000/svg\" height=\"24px\"viewBox=\"0 0 24 24\"\n",
              "       width=\"24px\">\n",
              "    <path d=\"M0 0h24v24H0V0z\" fill=\"none\"/>\n",
              "    <path d=\"M18.56 5.44l.94 2.06.94-2.06 2.06-.94-2.06-.94-.94-2.06-.94 2.06-2.06.94zm-11 1L8.5 8.5l.94-2.06 2.06-.94-2.06-.94L8.5 2.5l-.94 2.06-2.06.94zm10 10l.94 2.06.94-2.06 2.06-.94-2.06-.94-.94-2.06-.94 2.06-2.06.94z\"/><path d=\"M17.41 7.96l-1.37-1.37c-.4-.4-.92-.59-1.43-.59-.52 0-1.04.2-1.43.59L10.3 9.45l-7.72 7.72c-.78.78-.78 2.05 0 2.83L4 21.41c.39.39.9.59 1.41.59.51 0 1.02-.2 1.41-.59l7.78-7.78 2.81-2.81c.8-.78.8-2.07 0-2.86zM5.41 20L4 18.59l7.72-7.72 1.47 1.35L5.41 20z\"/>\n",
              "  </svg>\n",
              "      </button>\n",
              "      \n",
              "  <style>\n",
              "    .colab-df-container {\n",
              "      display:flex;\n",
              "      flex-wrap:wrap;\n",
              "      gap: 12px;\n",
              "    }\n",
              "\n",
              "    .colab-df-convert {\n",
              "      background-color: #E8F0FE;\n",
              "      border: none;\n",
              "      border-radius: 50%;\n",
              "      cursor: pointer;\n",
              "      display: none;\n",
              "      fill: #1967D2;\n",
              "      height: 32px;\n",
              "      padding: 0 0 0 0;\n",
              "      width: 32px;\n",
              "    }\n",
              "\n",
              "    .colab-df-convert:hover {\n",
              "      background-color: #E2EBFA;\n",
              "      box-shadow: 0px 1px 2px rgba(60, 64, 67, 0.3), 0px 1px 3px 1px rgba(60, 64, 67, 0.15);\n",
              "      fill: #174EA6;\n",
              "    }\n",
              "\n",
              "    [theme=dark] .colab-df-convert {\n",
              "      background-color: #3B4455;\n",
              "      fill: #D2E3FC;\n",
              "    }\n",
              "\n",
              "    [theme=dark] .colab-df-convert:hover {\n",
              "      background-color: #434B5C;\n",
              "      box-shadow: 0px 1px 3px 1px rgba(0, 0, 0, 0.15);\n",
              "      filter: drop-shadow(0px 1px 2px rgba(0, 0, 0, 0.3));\n",
              "      fill: #FFFFFF;\n",
              "    }\n",
              "  </style>\n",
              "\n",
              "      <script>\n",
              "        const buttonEl =\n",
              "          document.querySelector('#df-64a26c3a-6326-47dc-b158-8e571e8e6f13 button.colab-df-convert');\n",
              "        buttonEl.style.display =\n",
              "          google.colab.kernel.accessAllowed ? 'block' : 'none';\n",
              "\n",
              "        async function convertToInteractive(key) {\n",
              "          const element = document.querySelector('#df-64a26c3a-6326-47dc-b158-8e571e8e6f13');\n",
              "          const dataTable =\n",
              "            await google.colab.kernel.invokeFunction('convertToInteractive',\n",
              "                                                     [key], {});\n",
              "          if (!dataTable) return;\n",
              "\n",
              "          const docLinkHtml = 'Like what you see? Visit the ' +\n",
              "            '<a target=\"_blank\" href=https://colab.research.google.com/notebooks/data_table.ipynb>data table notebook</a>'\n",
              "            + ' to learn more about interactive tables.';\n",
              "          element.innerHTML = '';\n",
              "          dataTable['output_type'] = 'display_data';\n",
              "          await google.colab.output.renderOutput(dataTable, element);\n",
              "          const docLink = document.createElement('div');\n",
              "          docLink.innerHTML = docLinkHtml;\n",
              "          element.appendChild(docLink);\n",
              "        }\n",
              "      </script>\n",
              "    </div>\n",
              "  </div>\n",
              "  "
            ]
          },
          "metadata": {},
          "execution_count": 3
        }
      ],
      "source": [
        "data1 = {data.feature_names[0]: X[:,0],\n",
        "         data.feature_names[1]:X[:,1],\n",
        "         'Target': data.target_names[y[:]]}\n",
        "pd_data  = pd.DataFrame(data1)\n",
        "pd_data.sample(10)"
      ]
    },
    {
      "cell_type": "markdown",
      "metadata": {
        "id": "dTtAMTVYwE4c"
      },
      "source": [
        "<hr></hr>\n",
        "<h2> <b>Step 2:</b> Accessing, Importing, Clearning, and Pre-Processing Data </h2>"
      ]
    },
    {
      "cell_type": "code",
      "execution_count": null,
      "metadata": {
        "colab": {
          "base_uri": "https://localhost:8080/",
          "height": 502
        },
        "id": "BKMtAny3vNuc",
        "outputId": "283ac423-ada4-4dd5-ecfa-a2c5fc552d2b"
      },
      "outputs": [
        {
          "output_type": "display_data",
          "data": {
            "text/plain": [
              "<Figure size 576x576 with 1 Axes>"
            ],
            "image/png": "[encoded data removed]"
          },
          "metadata": {
            "needs_background": "light"
          }
        }
      ],
      "source": [
        "# Since we don't have data at the moment, so we are creating fake dataset as follows:\n",
        "# Visualizing the data\n",
        "plt.figure(figsize = (8, 8))\n",
        "plt.scatter(X[:, 0], X[:, 1], s = 50, c = 'r')\n",
        "plt.grid(visible = True, which = 'both', axis = 'both', color = 'b', linestyle = ':', linewidth = 0.5)\n",
        "plt.xticks(ticks = np.arange(np.floor(np.min(X[:,0])), np.max(X[:,0]), 0.3))\n",
        "plt.yticks(ticks = np.arange(np.floor(np.min(X[:,1])), np.max(X[:,1]), 0.3))\n",
        "plt.xlabel('x1', color = 'b', size = 16, fontweight = 'bold')\n",
        "plt.ylabel('x2', color = 'b', size = 16, fontweight = 'bold')\n",
        "plt.show()"
      ]
    },
    {
      "cell_type": "markdown",
      "metadata": {
        "id": "6vUpOErOzfsy"
      },
      "source": [
        "<hr></hr>\n",
        "<h2><b> Step 3: Using Scikit-Learn Library for K-means Clustering</b></h2>\n",
        "\n",
        "We, will use the Sckit-Learn library to process our randomly generated dataset as follows:"
      ]
    },
    {
      "cell_type": "code",
      "execution_count": null,
      "metadata": {
        "colab": {
          "base_uri": "https://localhost:8080/"
        },
        "id": "Y6z7POgrw3Or",
        "outputId": "8bac1c9b-48b5-47dd-84d4-90ca7381a613"
      },
      "outputs": [
        {
          "output_type": "execute_result",
          "data": {
            "text/plain": [
              "KMeans(n_clusters=3)"
            ]
          },
          "metadata": {},
          "execution_count": 5
        }
      ],
      "source": [
        "Kmean = KMeans(n_clusters = 3)\n",
        "Kmean.fit(X)"
      ]
    },
    {
      "cell_type": "markdown",
      "metadata": {
        "id": "jbWUYYWW66pf"
      },
      "source": [
        "<hr></hr>\n",
        "\n",
        "We can find the location of trained or optimized centroid using the `cluster_centers_`method as follows:"
      ]
    },
    {
      "cell_type": "code",
      "execution_count": null,
      "metadata": {
        "colab": {
          "base_uri": "https://localhost:8080/"
        },
        "id": "eLq6FUuO7A-H",
        "outputId": "a72f163b-fad4-40c0-d90c-2985c69d760b"
      },
      "outputs": [
        {
          "output_type": "stream",
          "name": "stdout",
          "text": [
            "The locations of the optimal centroids:\n",
            " [[6.81276596 3.07446809]\n",
            " [5.006      3.428     ]\n",
            " [5.77358491 2.69245283]]\n"
          ]
        }
      ],
      "source": [
        "centroid = Kmean.cluster_centers_\n",
        "print('The locations of the optimal centroids:\\n {}'.format(centroid))"
      ]
    },
    {
      "cell_type": "markdown",
      "metadata": {
        "id": "Elu8Hmrv66r_"
      },
      "source": [
        "<hr></hr>\n",
        "Let’s display the cluster centroids using different color for better understanding.\n",
        "<hr></hr>\n"
      ]
    },
    {
      "cell_type": "code",
      "execution_count": null,
      "metadata": {
        "colab": {
          "base_uri": "https://localhost:8080/",
          "height": 502
        },
        "id": "CJm8OiRD7IAv",
        "outputId": "64861f94-fb53-4f7e-b6ac-3e3799cd094b"
      },
      "outputs": [
        {
          "output_type": "display_data",
          "data": {
            "text/plain": [
              "<Figure size 576x576 with 1 Axes>"
            ],
            "image/png": "[encoded data removed]"
          },
          "metadata": {
            "needs_background": "light"
          }
        }
      ],
      "source": [
        "plt.figure(figsize = (8, 8))\n",
        "plt.scatter(X[:, 0], X[:, 1], s = 50, c = 'r')\n",
        "plt.grid(visible = True, which = 'both', axis = 'both', color = 'b', linestyle = ':', linewidth = 0.5)\n",
        "plt.xticks(ticks = np.arange(np.floor(np.min(X[:,0])), np.max(X[:,0]), 0.3))\n",
        "plt.yticks(ticks = np.arange(np.floor(np.min(X[:,1])), np.max(X[:,1]), 0.3))\n",
        "plt.xlabel('x1', color = 'b', size = 16, fontweight = 'bold')\n",
        "plt.ylabel('x2', color = 'b', size = 16, fontweight = 'bold')\n",
        "plt.scatter(centroid[0,0],centroid[0,1], s=200, c='g', marker='o')\n",
        "plt.scatter(centroid[1,0],centroid[1,1],  s=200, c='b', marker='o')\n",
        "plt.scatter(centroid[2,0],centroid[2,1], s=200, c='black', marker='o')\n",
        "plt.show()"
      ]
    },
    {
      "cell_type": "code",
      "source": [
        "x1 = X[34,:]\n",
        "x2 = X[123,:]\n",
        "x3 = X[56,:]\n"
      ],
      "metadata": {
        "id": "V0rLfCEUsU7K"
      },
      "execution_count": null,
      "outputs": []
    },
    {
      "cell_type": "markdown",
      "metadata": {
        "id": "LVuFlc-766ux"
      },
      "source": [
        "<hr></hr>\n",
        "<h2><b> Step 4: Predicting Future Values</b></h2>\n",
        "\n",
        "Let's say we have a value `[-1.36038524,  7.68433515]`, and we want to see which cluster it belong to? We can do that by using the `predict` method as follows:"
      ]
    },
    {
      "cell_type": "code",
      "execution_count": null,
      "metadata": {
        "colab": {
          "base_uri": "https://localhost:8080/"
        },
        "id": "Nj7f1lE07zqY",
        "outputId": "88ee6b13-d7e9-4529-e92b-5d5ee9183a48"
      },
      "outputs": [
        {
          "output_type": "stream",
          "name": "stdout",
          "text": [
            "The first input with featues [4.9 3.1] belong to CLass versicolor\n",
            "The seond input with featues [6.3 2.7] belong to CLass virginica\n",
            "The third input with featues [6.3 3.3] belong to CLass setosa\n"
          ]
        }
      ],
      "source": [
        "new_value = np.array([[4.9, 3.1],\n",
        "                      [6.3, 2.7],\n",
        "                      [6.3, 3.3]])\n",
        "predicted_y = Kmean.predict(new_value)\n",
        "\n",
        "print('The first input with featues {} belong to CLass {}\\nThe seond input with featues {} belong to CLass {}\\nThe third input with featues {} belong to CLass {}'.\n",
        "      format(new_value[0,:],data.target_names[predicted_y[0]], \n",
        "             new_value[1,:],data.target_names[predicted_y[1]],\n",
        "             new_value[2,:],data.target_names[predicted_y[2]]))"
      ]
    }
  ],
  "metadata": {
    "colab": {
      "collapsed_sections": [],
      "name": "IrisDatasetK-meansClustering.ipynb",
      "provenance": []
    },
    "kernelspec": {
      "display_name": "Python 3",
      "name": "python3"
    },
    "language_info": {
      "name": "python"
    }
  },
  "nbformat": 4,
  "nbformat_minor": 0
}